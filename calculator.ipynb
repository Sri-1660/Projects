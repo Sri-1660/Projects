{
 "cells": [
  {
   "cell_type": "code",
   "execution_count": 1,
   "id": "4a615de2",
   "metadata": {},
   "outputs": [],
   "source": [
    "from tkinter import *\n",
    "\n",
    "def click(num):\n",
    "    global op\n",
    "    op = op + str(num)\n",
    "    iptext.set(op)\n",
    "\n",
    "def evaluate():\n",
    "    global op\n",
    "    try:\n",
    "        output = str(eval(op))\n",
    "        iptext.set(output)\n",
    "        op = output\n",
    "    except Exception as e:\n",
    "        iptext.set(\"Error\")\n",
    "\n",
    "def clearDisplay():\n",
    "    global op\n",
    "    op = \"\"\n",
    "    iptext.set(op)\n",
    "\n",
    "calc = Tk()\n",
    "calc.title(\"My Calculator\")\n",
    "op = \"\"\n",
    "iptext = StringVar()\n",
    "\n",
    "\n",
    "iparea = Entry(calc, font=('arial', 15, 'bold'), bd=10, justify=\"right\", insertwidth=4, textvariable=iptext)\n",
    "iparea.grid(row=0, column=0, columnspan=4)\n",
    "\n",
    "\n",
    "buttons = [\n",
    "    '7', '8', '9', '+',\n",
    "    '4', '5', '6', '-',\n",
    "    '1', '2', '3', '*',\n",
    "    '0', 'C', '=', '/'\n",
    "]\n",
    "\n",
    "row_val = 1\n",
    "col_val = 0\n",
    "\n",
    "for button in buttons:\n",
    "    if button == '=':\n",
    "        btn = Button(calc, font=('arial', 15, 'bold'), command=evaluate, bg=\"lavender\", text=button, bd=5, padx=15, pady=10)\n",
    "    elif button == 'C':\n",
    "        btn = Button(calc, font=('arial', 15, 'bold'), command=clearDisplay, bg=\"lavender\", text=button, bd=5, padx=15, pady=10)\n",
    "    else:\n",
    "        btn = Button(calc, font=('arial', 15, 'bold'), command=lambda b=button: click(b), bg=\"lavender\", text=button, bd=5, padx=15, pady=10)\n",
    "\n",
    "    btn.grid(row=row_val, column=col_val)\n",
    "    col_val += 1\n",
    "\n",
    "    if col_val > 3:\n",
    "        col_val = 0\n",
    "        row_val += 1\n",
    "\n",
    "calc.mainloop()\n"
   ]
  },
  {
   "cell_type": "code",
   "execution_count": null,
   "id": "21e7d770",
   "metadata": {},
   "outputs": [],
   "source": []
  }
 ],
 "metadata": {
  "kernelspec": {
   "display_name": "Python 3 (ipykernel)",
   "language": "python",
   "name": "python3"
  },
  "language_info": {
   "codemirror_mode": {
    "name": "ipython",
    "version": 3
   },
   "file_extension": ".py",
   "mimetype": "text/x-python",
   "name": "python",
   "nbconvert_exporter": "python",
   "pygments_lexer": "ipython3",
   "version": "3.10.9"
  }
 },
 "nbformat": 4,
 "nbformat_minor": 5
}
